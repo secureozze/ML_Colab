{
  "nbformat": 4,
  "nbformat_minor": 0,
  "metadata": {
    "colab": {
      "name": "20181163_오지연_9주차 미니과제",
      "provenance": [],
      "collapsed_sections": [],
      "toc_visible": true
    },
    "kernelspec": {
      "name": "python3",
      "display_name": "Python 3"
    }
  },
  "cells": [
    {
      "cell_type": "markdown",
      "metadata": {
        "id": "Vqx0NWqQyMCr"
      },
      "source": [
        "# 10장 연습문제 10번 응용"
      ]
    },
    {
      "cell_type": "markdown",
      "metadata": {
        "id": "fZUI4KFeyfM1"
      },
      "source": [
        "[저자 노트북 10번 문제 참고](https://colab.research.google.com/github/rickiepark/handson-ml2/blob/master/10_neural_nets_with_keras.ipynb#scrollTo=ehaAAVNZwkDR)\n",
        "\n",
        "10번 문제 풀이를 찬찬히 따라 해본 후 아래 내용을 추가 수행해보십시오."
      ]
    },
    {
      "cell_type": "markdown",
      "metadata": {
        "id": "tm0DgY6hzqIk"
      },
      "source": [
        "# 모델 생성 연습"
      ]
    },
    {
      "cell_type": "markdown",
      "metadata": {
        "id": "NQN7sivdzxze"
      },
      "source": [
        "10번 문제 풀이 중 시퀀셜API를 이용한 모델 생성은 아래와 같다."
      ]
    },
    {
      "cell_type": "markdown",
      "metadata": {
        "id": "tg2ZxBRZa4OQ"
      },
      "source": [
        "\n",
        "\n",
        "```\n",
        "model = keras.models.Sequential([\n",
        "    keras.layers.Flatten(input_shape=[28, 28]),\n",
        "    keras.layers.Dense(300, activation=\"relu\"),\n",
        "    keras.layers.Dense(100, activation=\"relu\"),\n",
        "    keras.layers.Dense(10, activation=\"softmax\")\n",
        "])\n",
        "```\n",
        "\n"
      ]
    },
    {
      "cell_type": "code",
      "metadata": {
        "id": "F5ZvqFWrCx3H"
      },
      "source": [
        "# 파이썬 ≥3.5 필수\n",
        "import sys\n",
        "assert sys.version_info >= (3, 5)\n",
        "\n",
        "# 사이킷런 ≥0.20 필수\n",
        "import sklearn\n",
        "assert sklearn.__version__ >= \"0.20\"\n",
        "\n",
        "# 텐서플로 ≥2.0 필수\n",
        "import tensorflow as tf\n",
        "assert tf.__version__ >= \"2.0\"\n",
        "\n",
        "# 공통 모듈 임포트\n",
        "import numpy as np\n",
        "import os\n",
        "\n",
        "# 불필요한 경고를 무시합니다 (사이파이 이슈 #5998 참조)\n",
        "import warnings\n",
        "warnings.filterwarnings(action=\"ignore\", message=\"^internal gelsd\")\n",
        "\n",
        "# 깔끔한 그래프 출력을 위해\n",
        "%matplotlib inline\n",
        "import matplotlib as mpl\n",
        "import matplotlib.pyplot as plt\n",
        "mpl.rc('axes', labelsize=14)\n",
        "mpl.rc('xtick', labelsize=12)\n",
        "mpl.rc('ytick', labelsize=12)\n",
        "\n",
        "# keras\n",
        "from tensorflow import keras"
      ],
      "execution_count": null,
      "outputs": []
    },
    {
      "cell_type": "markdown",
      "metadata": {
        "id": "mLJMDxGfzDhj"
      },
      "source": [
        "## Q1 : 위 모델을 함수형 API를 이용하여 작성해보자.\n",
        "\n",
        "또한 생성한 모델 정보 관찰, 학습, 평가를 해보자."
      ]
    },
    {
      "cell_type": "markdown",
      "metadata": {
        "id": "AqC1S0ipq0st"
      },
      "source": [
        "\n",
        "```\n",
        "model = keras.models.Sequential([\n",
        "    keras.layers.Flatten(input_shape=[28, 28]),\n",
        "    keras.layers.Dense(300, activation=\"relu\"),\n",
        "    keras.layers.Dense(100, activation=\"relu\"),\n",
        "    keras.layers.Dense(10, activation=\"softmax\")\n",
        "])\n",
        "```\n",
        "\n"
      ]
    },
    {
      "cell_type": "code",
      "metadata": {
        "id": "os3P6WLopgUr"
      },
      "source": [
        "fashion_mnist = keras.datasets.fashion_mnist\n",
        "(X_train_full, y_train_full), (X_test, y_test) = fashion_mnist.load_data()\n",
        "\n",
        "X_valid, X_train = X_train_full[:5000] / 255., X_train_full[5000:] / 255.\n",
        "y_valid, y_train = y_train_full[:5000], y_train_full[5000:]\n",
        "X_test = X_test / 255."
      ],
      "execution_count": null,
      "outputs": []
    },
    {
      "cell_type": "code",
      "metadata": {
        "id": "8k0Y_d1U9AyK",
        "colab": {
          "base_uri": "https://localhost:8080/"
        },
        "outputId": "b0fc5a89-79c9-4f69-9738-9813e88cdf6f"
      },
      "source": [
        "X_valid.shape"
      ],
      "execution_count": null,
      "outputs": [
        {
          "output_type": "execute_result",
          "data": {
            "text/plain": [
              "(5000, 28, 28)"
            ]
          },
          "metadata": {
            "tags": []
          },
          "execution_count": 3
        }
      ]
    },
    {
      "cell_type": "code",
      "metadata": {
        "id": "KXtfXOIqCmsD"
      },
      "source": [
        "np.random.seed(42)\n",
        "tf.random.set_seed(42)"
      ],
      "execution_count": null,
      "outputs": []
    },
    {
      "cell_type": "code",
      "metadata": {
        "id": "LW4ozRBf5eQ5",
        "colab": {
          "base_uri": "https://localhost:8080/"
        },
        "outputId": "ab274715-1c30-4982-d0f9-f349ce540973"
      },
      "source": [
        "X_train.shape[1:]"
      ],
      "execution_count": null,
      "outputs": [
        {
          "output_type": "execute_result",
          "data": {
            "text/plain": [
              "(28, 28)"
            ]
          },
          "metadata": {
            "tags": []
          },
          "execution_count": 5
        }
      ]
    },
    {
      "cell_type": "code",
      "metadata": {
        "id": "PAkI_p5JCtv_"
      },
      "source": [
        "input_ = keras.layers.Input(shape=(X_train.shape[1:]))\n",
        "hidden1 = keras.layers.Dense(300, activation=\"relu\")(input_)\n",
        "hidden2 = keras.layers.Dense(100, activation=\"relu\")(hidden1)\n",
        "concat = keras.layers.concatenate([input_, hidden2])\n",
        "flatten = keras.layers.Flatten()(concat)\n",
        "output = keras.layers.Dense(10, activation=\"softmax\")(flatten)\n",
        "\n",
        "model = keras.models.Model(inputs=[input_], outputs=[output])"
      ],
      "execution_count": null,
      "outputs": []
    },
    {
      "cell_type": "code",
      "metadata": {
        "id": "VrdWptbJDYim",
        "colab": {
          "base_uri": "https://localhost:8080/"
        },
        "outputId": "cc1e1a5f-0d96-4cac-ac63-5e8d92f6827d"
      },
      "source": [
        "model.summary()"
      ],
      "execution_count": null,
      "outputs": [
        {
          "output_type": "stream",
          "text": [
            "Model: \"functional_1\"\n",
            "__________________________________________________________________________________________________\n",
            "Layer (type)                    Output Shape         Param #     Connected to                     \n",
            "==================================================================================================\n",
            "input_1 (InputLayer)            [(None, 28, 28)]     0                                            \n",
            "__________________________________________________________________________________________________\n",
            "dense (Dense)                   (None, 28, 300)      8700        input_1[0][0]                    \n",
            "__________________________________________________________________________________________________\n",
            "dense_1 (Dense)                 (None, 28, 100)      30100       dense[0][0]                      \n",
            "__________________________________________________________________________________________________\n",
            "concatenate (Concatenate)       (None, 28, 128)      0           input_1[0][0]                    \n",
            "                                                                 dense_1[0][0]                    \n",
            "__________________________________________________________________________________________________\n",
            "flatten (Flatten)               (None, 3584)         0           concatenate[0][0]                \n",
            "__________________________________________________________________________________________________\n",
            "dense_2 (Dense)                 (None, 10)           35850       flatten[0][0]                    \n",
            "==================================================================================================\n",
            "Total params: 74,650\n",
            "Trainable params: 74,650\n",
            "Non-trainable params: 0\n",
            "__________________________________________________________________________________________________\n"
          ],
          "name": "stdout"
        }
      ]
    },
    {
      "cell_type": "code",
      "metadata": {
        "id": "-ytht1FrEIuf",
        "colab": {
          "base_uri": "https://localhost:8080/",
          "height": 644
        },
        "outputId": "97b6de61-aff5-4f4f-d5fb-a63431ae2308"
      },
      "source": [
        "keras.utils.plot_model(model, \"this.png\", show_shapes=True)"
      ],
      "execution_count": null,
      "outputs": [
        {
          "output_type": "execute_result",
          "data": {
            "image/png": "[encoded data removed]",
            "text/plain": [
              "<IPython.core.display.Image object>"
            ]
          },
          "metadata": {
            "tags": []
          },
          "execution_count": 8
        }
      ]
    },
    {
      "cell_type": "code",
      "metadata": {
        "id": "XBobLs3HOC4j"
      },
      "source": [
        "model.compile(loss=\"sparse_categorical_crossentropy\",\n",
        "              optimizer=\"sgd\",\n",
        "              metrics=[\"accuracy\"])"
      ],
      "execution_count": null,
      "outputs": []
    },
    {
      "cell_type": "code",
      "metadata": {
        "id": "8Mswu3_ODSWY",
        "colab": {
          "base_uri": "https://localhost:8080/"
        },
        "outputId": "20eb6201-7783-4f87-e7e5-33dda5bfef8c"
      },
      "source": [
        "X_valid.shape"
      ],
      "execution_count": null,
      "outputs": [
        {
          "output_type": "execute_result",
          "data": {
            "text/plain": [
              "(5000, 28, 28)"
            ]
          },
          "metadata": {
            "tags": []
          },
          "execution_count": 10
        }
      ]
    },
    {
      "cell_type": "code",
      "metadata": {
        "id": "eJkFc5fsDM7D",
        "colab": {
          "base_uri": "https://localhost:8080/"
        },
        "outputId": "950c011b-2f80-46e0-8a21-08b914f9e1c9"
      },
      "source": [
        "history = model.fit(X_train, y_train, epochs=10, validation_data=(X_valid, y_valid))"
      ],
      "execution_count": null,
      "outputs": [
        {
          "output_type": "stream",
          "text": [
            "Epoch 1/10\n",
            "1719/1719 [==============================] - 15s 9ms/step - loss: 0.7415 - accuracy: 0.7606 - val_loss: 0.5307 - val_accuracy: 0.8234\n",
            "Epoch 2/10\n",
            "1719/1719 [==============================] - 15s 9ms/step - loss: 0.5118 - accuracy: 0.8219 - val_loss: 0.4652 - val_accuracy: 0.8444\n",
            "Epoch 3/10\n",
            "1719/1719 [==============================] - 15s 9ms/step - loss: 0.4681 - accuracy: 0.8360 - val_loss: 0.4772 - val_accuracy: 0.8274\n",
            "Epoch 4/10\n",
            "1719/1719 [==============================] - 15s 9ms/step - loss: 0.4420 - accuracy: 0.8471 - val_loss: 0.4237 - val_accuracy: 0.8620\n",
            "Epoch 5/10\n",
            "1719/1719 [==============================] - 15s 9ms/step - loss: 0.4241 - accuracy: 0.8529 - val_loss: 0.4035 - val_accuracy: 0.8618\n",
            "Epoch 6/10\n",
            "1719/1719 [==============================] - 15s 9ms/step - loss: 0.4070 - accuracy: 0.8586 - val_loss: 0.3953 - val_accuracy: 0.8672\n",
            "Epoch 7/10\n",
            "1719/1719 [==============================] - 15s 9ms/step - loss: 0.3951 - accuracy: 0.8631 - val_loss: 0.3869 - val_accuracy: 0.8678\n",
            "Epoch 8/10\n",
            "1719/1719 [==============================] - 15s 9ms/step - loss: 0.3849 - accuracy: 0.8657 - val_loss: 0.4008 - val_accuracy: 0.8594\n",
            "Epoch 9/10\n",
            "1719/1719 [==============================] - 15s 9ms/step - loss: 0.3759 - accuracy: 0.8700 - val_loss: 0.3763 - val_accuracy: 0.8640\n",
            "Epoch 10/10\n",
            "1719/1719 [==============================] - 15s 9ms/step - loss: 0.3679 - accuracy: 0.8712 - val_loss: 0.3641 - val_accuracy: 0.8738\n"
          ],
          "name": "stdout"
        }
      ]
    },
    {
      "cell_type": "code",
      "metadata": {
        "id": "-cSDygIaeJ2o",
        "colab": {
          "base_uri": "https://localhost:8080/"
        },
        "outputId": "05f92135-e7e0-4a6b-f962-d38afa9f14c8"
      },
      "source": [
        "test = model.evaluate(X_valid, y_valid)\n",
        "X_new = X_valid[:3]\n",
        "y_pred = model.predict(X_new)"
      ],
      "execution_count": null,
      "outputs": [
        {
          "output_type": "stream",
          "text": [
            "157/157 [==============================] - 1s 4ms/step - loss: 0.3641 - accuracy: 0.8738\n"
          ],
          "name": "stdout"
        }
      ]
    },
    {
      "cell_type": "markdown",
      "metadata": {
        "id": "pf5-55wix2IM"
      },
      "source": [
        "###다른 option의 compile"
      ]
    },
    {
      "cell_type": "code",
      "metadata": {
        "id": "GKRqVs4oazw1",
        "colab": {
          "base_uri": "https://localhost:8080/"
        },
        "outputId": "32fef910-eda7-488b-b370-2e0f017b02d3"
      },
      "source": [
        "input_ = keras.layers.Input(shape=(X_train.shape[1:]))\n",
        "hidden1 = keras.layers.Dense(300, activation=\"relu\")(input_)\n",
        "hidden2 = keras.layers.Dense(100, activation=\"relu\")(hidden1)\n",
        "concat = keras.layers.concatenate([input_, hidden2])\n",
        "flatten = keras.layers.Flatten()(concat)\n",
        "output = keras.layers.Dense(10, activation=\"softmax\")(flatten)\n",
        "\n",
        "model = keras.models.Model(inputs=[input_], outputs=[output])\n",
        "\n",
        "model.compile(optimizer='adam', loss='sparse_categorical_crossentropy', metrics=['accuracy'])\n",
        "history = model.fit(X_train, y_train, validation_data=(X_valid, y_valid), epochs=10)"
      ],
      "execution_count": null,
      "outputs": [
        {
          "output_type": "stream",
          "text": [
            "Epoch 1/10\n",
            "1719/1719 [==============================] - 16s 9ms/step - loss: 0.4387 - accuracy: 0.8438 - val_loss: 0.3438 - val_accuracy: 0.8744\n",
            "Epoch 2/10\n",
            "1719/1719 [==============================] - 16s 9ms/step - loss: 0.3319 - accuracy: 0.8803 - val_loss: 0.3384 - val_accuracy: 0.8800\n",
            "Epoch 3/10\n",
            "1719/1719 [==============================] - 16s 9ms/step - loss: 0.3017 - accuracy: 0.8899 - val_loss: 0.3119 - val_accuracy: 0.8896\n",
            "Epoch 4/10\n",
            "1719/1719 [==============================] - 16s 10ms/step - loss: 0.2794 - accuracy: 0.8991 - val_loss: 0.2939 - val_accuracy: 0.8988\n",
            "Epoch 5/10\n",
            "1719/1719 [==============================] - 16s 9ms/step - loss: 0.2624 - accuracy: 0.9041 - val_loss: 0.2899 - val_accuracy: 0.8984\n",
            "Epoch 6/10\n",
            "1719/1719 [==============================] - 16s 9ms/step - loss: 0.2467 - accuracy: 0.9094 - val_loss: 0.3016 - val_accuracy: 0.8964\n",
            "Epoch 7/10\n",
            "1719/1719 [==============================] - 16s 9ms/step - loss: 0.2354 - accuracy: 0.9139 - val_loss: 0.2928 - val_accuracy: 0.8968\n",
            "Epoch 8/10\n",
            "1719/1719 [==============================] - 16s 9ms/step - loss: 0.2222 - accuracy: 0.9171 - val_loss: 0.3134 - val_accuracy: 0.8888\n",
            "Epoch 9/10\n",
            "1719/1719 [==============================] - 16s 9ms/step - loss: 0.2097 - accuracy: 0.9231 - val_loss: 0.3017 - val_accuracy: 0.9022\n",
            "Epoch 10/10\n",
            "1719/1719 [==============================] - 16s 9ms/step - loss: 0.1991 - accuracy: 0.9275 - val_loss: 0.3096 - val_accuracy: 0.8962\n"
          ],
          "name": "stdout"
        }
      ]
    },
    {
      "cell_type": "markdown",
      "metadata": {
        "id": "Mm9o7zrAzPk0"
      },
      "source": [
        "## Q2: 위 모델을 서브클래싱 API를 이용하여 작성해보자.\n",
        "\n",
        "또한 생성한 모델 정보 관찰, 학습, 평가를 해보자."
      ]
    },
    {
      "cell_type": "code",
      "metadata": {
        "id": "a2r3iX1wFvqP"
      },
      "source": [
        "class SubModel(keras.models.Model):\n",
        "    def __init__(self, units=300, activation=\"relu\", **kwargs):\n",
        "        super().__init__(**kwargs)\n",
        "        self.hidden1 = keras.layers.Dense(units, activation=activation)\n",
        "        self.hidden2 = keras.layers.Dense(100, activation=activation)\n",
        "        self.flatten = keras.layers.Flatten()\n",
        "        self.model_output = keras.layers.Dense(10, activation=\"softmax\")\n",
        "        \n",
        "    def call(self, inputs):\n",
        "        inputs_ = inputs\n",
        "        hidden1 = self.hidden1(inputs_)\n",
        "        hidden2 = self.hidden2(hidden1)\n",
        "        flatten = self.flatten(hidden2)\n",
        "        model_output = self.model_output(flatten)\n",
        "        return model_output\n",
        "\n",
        "sub_model = SubModel(300, activation=\"relu\")"
      ],
      "execution_count": null,
      "outputs": []
    },
    {
      "cell_type": "code",
      "metadata": {
        "id": "HLmzSdFkF1TM",
        "colab": {
          "base_uri": "https://localhost:8080/"
        },
        "outputId": "0722730b-fb82-40e7-dfcc-4ec35f932018"
      },
      "source": [
        "sub_model.compile(optimizer='adam', loss='sparse_categorical_crossentropy', metrics=['accuracy'])\n",
        "history = sub_model.fit(X_train, y_train, epochs=10, validation_data=(X_valid, y_valid))"
      ],
      "execution_count": null,
      "outputs": [
        {
          "output_type": "stream",
          "text": [
            "Epoch 1/10\n",
            "1719/1719 [==============================] - 15s 9ms/step - loss: 0.4493 - accuracy: 0.8395 - val_loss: 0.3389 - val_accuracy: 0.8774\n",
            "Epoch 2/10\n",
            "1719/1719 [==============================] - 15s 9ms/step - loss: 0.3368 - accuracy: 0.8783 - val_loss: 0.3233 - val_accuracy: 0.8860\n",
            "Epoch 3/10\n",
            "1719/1719 [==============================] - 15s 9ms/step - loss: 0.3038 - accuracy: 0.8887 - val_loss: 0.3148 - val_accuracy: 0.8840\n",
            "Epoch 4/10\n",
            "1719/1719 [==============================] - 15s 9ms/step - loss: 0.2806 - accuracy: 0.8981 - val_loss: 0.2927 - val_accuracy: 0.8940\n",
            "Epoch 5/10\n",
            "1719/1719 [==============================] - 15s 9ms/step - loss: 0.2638 - accuracy: 0.9038 - val_loss: 0.2814 - val_accuracy: 0.9002\n",
            "Epoch 6/10\n",
            "1719/1719 [==============================] - 15s 9ms/step - loss: 0.2461 - accuracy: 0.9094 - val_loss: 0.2967 - val_accuracy: 0.8950\n",
            "Epoch 7/10\n",
            "1719/1719 [==============================] - 15s 9ms/step - loss: 0.2359 - accuracy: 0.9127 - val_loss: 0.2882 - val_accuracy: 0.9002\n",
            "Epoch 8/10\n",
            "1719/1719 [==============================] - 15s 9ms/step - loss: 0.2210 - accuracy: 0.9179 - val_loss: 0.2891 - val_accuracy: 0.8998\n",
            "Epoch 9/10\n",
            "1719/1719 [==============================] - 15s 9ms/step - loss: 0.2101 - accuracy: 0.9219 - val_loss: 0.2835 - val_accuracy: 0.9034\n",
            "Epoch 10/10\n",
            "1719/1719 [==============================] - 15s 9ms/step - loss: 0.2000 - accuracy: 0.9267 - val_loss: 0.3030 - val_accuracy: 0.8982\n"
          ],
          "name": "stdout"
        }
      ]
    },
    {
      "cell_type": "markdown",
      "metadata": {
        "id": "lzJaGfcd0Hrk"
      },
      "source": [
        "# 콜백 이용 연습"
      ]
    },
    {
      "cell_type": "markdown",
      "metadata": {
        "id": "g9L787He0S0a"
      },
      "source": [
        "## Q3: 시퀀셜 API로 생성한 모델에 대해, 학습시 ``ModelCheckpoint`` 콜백을 작성하여 모델을 저장해보자.\n",
        "\n",
        "스펙\n",
        "- 검증 로스 기준으로 베스트 갱신 마다 저장되게 하자.\n",
        "- 모델명은 ./my_models/mnist_q3_model_epoch_05_val_loss_0.07.h5 처럼 에포크와 검증 로스가 포함되도록 해보자."
      ]
    },
    {
      "cell_type": "code",
      "metadata": {
        "id": "h_ved1PVTijI"
      },
      "source": [
        "!pip install -q pyyaml h5py"
      ],
      "execution_count": null,
      "outputs": []
    },
    {
      "cell_type": "code",
      "metadata": {
        "id": "BZ31Q84nm8Ba"
      },
      "source": [
        "!rm -r ./my_models"
      ],
      "execution_count": null,
      "outputs": []
    },
    {
      "cell_type": "code",
      "metadata": {
        "id": "slnY9fjwWL1U"
      },
      "source": [
        "!mkdir -p my_models"
      ],
      "execution_count": null,
      "outputs": []
    },
    {
      "cell_type": "code",
      "metadata": {
        "id": "sMHwc6XPU5df"
      },
      "source": [
        "checkpoint_path = \"./my_models/mnist_q3_model_epoch_{epoch:02d}_val_loss_{val_loss:.2f}.h5\""
      ],
      "execution_count": null,
      "outputs": []
    },
    {
      "cell_type": "code",
      "metadata": {
        "id": "M-i3O8ebQOfY",
        "colab": {
          "base_uri": "https://localhost:8080/"
        },
        "outputId": "d3beacc9-4dd0-44dc-b3ec-e86a4483a57b"
      },
      "source": [
        "input_ = keras.layers.Input(shape=(X_train.shape[1:]))\n",
        "hidden1 = keras.layers.Dense(300, activation=\"relu\")(input_)\n",
        "hidden2 = keras.layers.Dense(100, activation=\"relu\")(hidden1)\n",
        "concat = keras.layers.concatenate([input_, hidden2])\n",
        "flatten = keras.layers.Flatten()(concat)\n",
        "output = keras.layers.Dense(10, activation=\"softmax\")(flatten)\n",
        "\n",
        "model = keras.models.Model(inputs=[input_], outputs=[output])\n",
        "model.compile(optimizer='adam', loss='sparse_categorical_crossentropy', metrics=['acc'])\n",
        "\n",
        "checkpoint_cb = keras.callbacks.ModelCheckpoint(checkpoint_path, monitor='val_loss', save_best_only=True)\n",
        "history = model.fit(X_train, y_train, epochs=10,\n",
        "                    validation_data=(X_valid, y_valid),\n",
        "                    callbacks=[checkpoint_cb])"
      ],
      "execution_count": null,
      "outputs": [
        {
          "output_type": "stream",
          "text": [
            "Epoch 1/10\n",
            "1719/1719 [==============================] - 16s 9ms/step - loss: 0.4397 - acc: 0.8439 - val_loss: 0.3418 - val_acc: 0.8796\n",
            "Epoch 2/10\n",
            "1719/1719 [==============================] - 15s 9ms/step - loss: 0.3350 - acc: 0.8793 - val_loss: 0.3335 - val_acc: 0.8796\n",
            "Epoch 3/10\n",
            "1719/1719 [==============================] - 20s 12ms/step - loss: 0.3038 - acc: 0.8890 - val_loss: 0.3133 - val_acc: 0.8908\n",
            "Epoch 4/10\n",
            "1719/1719 [==============================] - 16s 9ms/step - loss: 0.2797 - acc: 0.8990 - val_loss: 0.2901 - val_acc: 0.8982\n",
            "Epoch 5/10\n",
            "1719/1719 [==============================] - 16s 9ms/step - loss: 0.2631 - acc: 0.9039 - val_loss: 0.2859 - val_acc: 0.9010\n",
            "Epoch 6/10\n",
            "1719/1719 [==============================] - 16s 9ms/step - loss: 0.2459 - acc: 0.9112 - val_loss: 0.2941 - val_acc: 0.8988\n",
            "Epoch 7/10\n",
            "1719/1719 [==============================] - 16s 9ms/step - loss: 0.2356 - acc: 0.9137 - val_loss: 0.2942 - val_acc: 0.8986\n",
            "Epoch 8/10\n",
            "1719/1719 [==============================] - 16s 9ms/step - loss: 0.2215 - acc: 0.9191 - val_loss: 0.3027 - val_acc: 0.8940\n",
            "Epoch 9/10\n",
            "1719/1719 [==============================] - 16s 9ms/step - loss: 0.2093 - acc: 0.9232 - val_loss: 0.2891 - val_acc: 0.9036\n",
            "Epoch 10/10\n",
            "1719/1719 [==============================] - 16s 9ms/step - loss: 0.1980 - acc: 0.9274 - val_loss: 0.3228 - val_acc: 0.8988\n"
          ],
          "name": "stdout"
        }
      ]
    },
    {
      "cell_type": "code",
      "metadata": {
        "id": "LYZmIYxmTuzn",
        "colab": {
          "base_uri": "https://localhost:8080/"
        },
        "outputId": "664ef3cd-108a-4a8a-ac53-a9027344de2e"
      },
      "source": [
        "!ls ./my_models/"
      ],
      "execution_count": null,
      "outputs": [
        {
          "output_type": "stream",
          "text": [
            "mnist_q3_model_epoch_01_val_loss_0.34.h5\n",
            "mnist_q3_model_epoch_02_val_loss_0.33.h5\n",
            "mnist_q3_model_epoch_03_val_loss_0.31.h5\n",
            "mnist_q3_model_epoch_04_val_loss_0.29.h5\n",
            "mnist_q3_model_epoch_05_val_loss_0.29.h5\n"
          ],
          "name": "stdout"
        }
      ]
    },
    {
      "cell_type": "markdown",
      "metadata": {
        "id": "5X2ssEak1sO1"
      },
      "source": [
        "## Q4: 위와 동일하지만 다음 스펙으로 ModelCheckpoint 콜백을 작성하여 모델을 저장해보자.\n",
        "\n",
        "스펙\n",
        "- 검증 accurcy 기준으로 베스트 갱신 마다 저장되게하자.\n",
        "- 모델명은 ./my_models/mnist_q4_model_epoch_05_val_accuracy_0.97.h5 처럼 에프코와 검증 accuracy가 포함되도록 해보자."
      ]
    },
    {
      "cell_type": "code",
      "metadata": {
        "id": "Z54EvFTj2dqy"
      },
      "source": [
        "checkpoint_path = \"./my_models/mnist_q4_model_epoch_{epoch:02d}_val_accuracy_{val_acc:.2f}.h5\""
      ],
      "execution_count": null,
      "outputs": []
    },
    {
      "cell_type": "code",
      "metadata": {
        "id": "fDFvmzdXZkum",
        "colab": {
          "base_uri": "https://localhost:8080/"
        },
        "outputId": "ceee1665-4ae5-46b1-b7f9-3e9d71b1d3af"
      },
      "source": [
        "input_ = keras.layers.Input(shape=(X_train.shape[1:]))\n",
        "hidden1 = keras.layers.Dense(300, activation=\"relu\")(input_)\n",
        "hidden2 = keras.layers.Dense(100, activation=\"relu\")(hidden1)\n",
        "concat = keras.layers.concatenate([input_, hidden2])\n",
        "flatten = keras.layers.Flatten()(concat)\n",
        "output = keras.layers.Dense(10, activation=\"softmax\")(flatten)\n",
        "\n",
        "model = keras.models.Model(inputs=[input_], outputs=[output])\n",
        "model.compile(optimizer='adam', loss='sparse_categorical_crossentropy', metrics=['acc'])\n",
        "\n",
        "checkpoint_cb = keras.callbacks.ModelCheckpoint(checkpoint_path, monitor='val_acc', save_best_only=True, mode='auto')\n",
        "history = model.fit(X_train, y_train, epochs=10,\n",
        "                    validation_data=(X_valid, y_valid),\n",
        "                    callbacks=[checkpoint_cb])"
      ],
      "execution_count": null,
      "outputs": [
        {
          "output_type": "stream",
          "text": [
            "Epoch 1/10\n",
            "1719/1719 [==============================] - 16s 9ms/step - loss: 0.4431 - acc: 0.8418 - val_loss: 0.3413 - val_acc: 0.8786\n",
            "Epoch 2/10\n",
            "1719/1719 [==============================] - 16s 9ms/step - loss: 0.3346 - acc: 0.8792 - val_loss: 0.3360 - val_acc: 0.8786\n",
            "Epoch 3/10\n",
            "1719/1719 [==============================] - 16s 9ms/step - loss: 0.3041 - acc: 0.8887 - val_loss: 0.3240 - val_acc: 0.8872\n",
            "Epoch 4/10\n",
            "1719/1719 [==============================] - 16s 9ms/step - loss: 0.2811 - acc: 0.8992 - val_loss: 0.2957 - val_acc: 0.8938\n",
            "Epoch 5/10\n",
            "1719/1719 [==============================] - 16s 9ms/step - loss: 0.2643 - acc: 0.9032 - val_loss: 0.2877 - val_acc: 0.8984\n",
            "Epoch 6/10\n",
            "1719/1719 [==============================] - 16s 9ms/step - loss: 0.2465 - acc: 0.9097 - val_loss: 0.2993 - val_acc: 0.8970\n",
            "Epoch 7/10\n",
            "1719/1719 [==============================] - 16s 9ms/step - loss: 0.2353 - acc: 0.9129 - val_loss: 0.2946 - val_acc: 0.8964\n",
            "Epoch 8/10\n",
            "1719/1719 [==============================] - 16s 9ms/step - loss: 0.2219 - acc: 0.9177 - val_loss: 0.3105 - val_acc: 0.8936\n",
            "Epoch 9/10\n",
            "1719/1719 [==============================] - 16s 9ms/step - loss: 0.2107 - acc: 0.9234 - val_loss: 0.3052 - val_acc: 0.9002\n",
            "Epoch 10/10\n",
            "1719/1719 [==============================] - 16s 9ms/step - loss: 0.1995 - acc: 0.9265 - val_loss: 0.3137 - val_acc: 0.9002\n"
          ],
          "name": "stdout"
        }
      ]
    },
    {
      "cell_type": "code",
      "metadata": {
        "id": "JdXVQYv-aste",
        "colab": {
          "base_uri": "https://localhost:8080/"
        },
        "outputId": "ff5af6fe-0806-415f-baf4-fdf2b69f9ac1"
      },
      "source": [
        "!ls ./my_models/"
      ],
      "execution_count": null,
      "outputs": [
        {
          "output_type": "stream",
          "text": [
            "mnist_q3_model_epoch_01_val_loss_0.34.h5\n",
            "mnist_q3_model_epoch_02_val_loss_0.33.h5\n",
            "mnist_q3_model_epoch_03_val_loss_0.31.h5\n",
            "mnist_q3_model_epoch_04_val_loss_0.29.h5\n",
            "mnist_q3_model_epoch_05_val_loss_0.29.h5\n",
            "mnist_q4_model_epoch_01_val_accuracy_0.88.h5\n",
            "mnist_q4_model_epoch_03_val_accuracy_0.89.h5\n",
            "mnist_q4_model_epoch_04_val_accuracy_0.89.h5\n",
            "mnist_q4_model_epoch_05_val_accuracy_0.90.h5\n",
            "mnist_q4_model_epoch_09_val_accuracy_0.90.h5\n"
          ],
          "name": "stdout"
        }
      ]
    }
  ]
}